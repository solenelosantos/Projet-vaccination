{
 "cells": [
  {
   "cell_type": "code",
   "execution_count": 2,
   "id": "b53f6214-ab1e-4773-94d3-e1cf366561fb",
   "metadata": {},
   "outputs": [],
   "source": [
    "# Note Projet Vaccination:"
   ]
  },
  {
   "cell_type": "code",
   "execution_count": null,
   "id": "2788fb17-eaf6-4a96-8ab7-28876df46e35",
   "metadata": {},
   "outputs": [],
   "source": []
  },
  {
   "cell_type": "code",
   "execution_count": null,
   "id": "66548647-5d60-42fe-93c5-87e4c81197ab",
   "metadata": {},
   "outputs": [],
   "source": []
  }
 ],
 "metadata": {
  "kernelspec": {
   "display_name": "Python 3 (ipykernel)",
   "language": "python",
   "name": "python3"
  },
  "language_info": {
   "codemirror_mode": {
    "name": "ipython",
    "version": 3
   },
   "file_extension": ".py",
   "mimetype": "text/x-python",
   "name": "python",
   "nbconvert_exporter": "python",
   "pygments_lexer": "ipython3",
   "version": "3.12.4"
  }
 },
 "nbformat": 4,
 "nbformat_minor": 5
}
